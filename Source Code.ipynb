{
 "cells": [
  {
   "cell_type": "code",
   "execution_count": 3,
   "id": "96b0a4b3",
   "metadata": {},
   "outputs": [],
   "source": [
    "#importing all the necessary libraries\n",
    "import numpy as np\n",
    "import math\n",
    "from sklearn import datasets\n",
    "import matplotlib.pyplot as plt\n",
    "import pandas as pd\n",
    "from sklearn.model_selection import train_test_split\n",
    "from sklearn.metrics import accuracy_score\n",
    "from sklearn.tree import DecisionTreeClassifier"
   ]
  },
  {
   "cell_type": "code",
   "execution_count": 4,
   "id": "56819495",
   "metadata": {},
   "outputs": [],
   "source": [
    "#implementation of the Decision Stump class\n",
    "class DecisionStump():\n",
    "    def __init__(self):\n",
    "        self.polarity = 1\n",
    "        self.feature_index = None\n",
    "        self.threshold = None\n",
    "        self.alpha = None\n",
    "\n",
    "#implementation of the AdaBoost algorithm\n",
    "class Adaboost_Implementation():\n",
    "    #initializing the constructor\n",
    "    def __init__(self, num_of_clf):\n",
    "        self.num_of_clf = num_of_clf\n",
    "\n",
    "    #method for fitting the data\n",
    "    def fit(self, X, y):\n",
    "        num_of_samples, num_of_features = np.shape(X)\n",
    "        w = np.full(num_of_samples, (1 / num_of_samples))\n",
    "        self.classifiers = []\n",
    "        for _ in range(self.num_of_clf):\n",
    "            classifier = DecisionStump()\n",
    "            min_error = float('inf')\n",
    "            for feature_i in range(num_of_features):\n",
    "                feature_values = np.expand_dims(X[:, feature_i], axis = 1)\n",
    "                unique_values = np.unique(feature_values)\n",
    "                for threshold in unique_va\n",
    "                    p = 1\n",
    "                    prediction = np.ones(np.shape(y))\n",
    "                    prediction[X[:, feature_i] < threshold] = -1\n",
    "                    error = sum(w[y != prediction])\n",
    "                    if error > 0.5:\n",
    "                        error = 1 - error\n",
    "                        p = -1\n",
    "                    if error < min_error:\n",
    "                        classifier.polarity = p\n",
    "                        classifier.threshold = threshold\n",
    "                        classifier.feature_index = feature_i\n",
    "                        min_error = error\n",
    "            classifier.alpha = 0.5 * math.log((1.0 - min_error) / (min_error + 1e-10))\n",
    "            predictions = np.ones(np.shape(y))\n",
    "            negative_idx = (classifier.polarity * X[:, classifier.feature_index] < classifier.polarity * classifier.threshold)\n",
    "            predictions[negative_idx] = -1\n",
    "            w *= np.exp(-classifier.alpha * y * predictions)\n",
    "            w /= np.sum(w)\n",
    "            self.classifiers.append(classifier)\n",
    "\n",
    "    #method for predicting the label\n",
    "    def predict(self, X):\n",
    "        num_of_samples = np.shape(X)[0]\n",
    "        y_pred = np.zeros((num_of_samples, 1))\n",
    "        for classifier in self.classifiers:\n",
    "            predictions = np.ones(np.shape(y_pred))\n",
    "            negative_idx = (classifier.polarity * X[:, classifier.feature_index] < classifier.polarity * classifier.threshold)\n",
    "            predictions[negative_idx] = -1\n",
    "            y_pred += classifier.alpha * predictions\n",
    "        y_pred = np.sign(y_pred).flatten()\n",
    "        return y_pred"
   ]
  },
  {
   "cell_type": "code",
   "execution_count": 9,
   "id": "73442030",
   "metadata": {},
   "outputs": [],
   "source": [
    "#getting train and test data from the text files\n",
    "train_dataset = pd.read_csv(\"train.txt\", header = None, index_col = False)\n",
    "test_dataset = pd.read_csv(\"test.txt\", header = None, index_col = False)\n",
    "\n",
    "train_data = np.array(train_dataset)\n",
    "\n",
    "#getting the features from the train data file\n",
    "X = np.array(train_dataset.iloc[:,1:])\n",
    "#getting the labels from train data file\n",
    "y = np.array(train_dataset.iloc[:,0])\n",
    "#getting the features from the test data file\n",
    "X_test_set = np.array(test_dataset)\n",
    "\n",
    "three = 3\n",
    "five = 5\n",
    "\n",
    "#changing the labels 3 --> -1 and 5 --> 1\n",
    "y[y == three] = -1\n",
    "y[y == five] = 1\n",
    "\n",
    "#splitting the train data for training and testing the model\n",
    "X_train, X_test, y_train, y_test = train_test_split(X, y, test_size = 0.2)\n",
    "\n",
    "#list to store the train accuracies of the model from 10 to 250 weak classifiers with an increment of 10\n",
    "train_accuracies = []\n",
    "\n",
    "#training the model\n",
    "for i in range(10,251,10):\n",
    "    classifier = Adaboost_Implementation(num_of_clf = i)\n",
    "    classifier.fit(X_train, y_train)\n",
    "    y_pred = classifierpredict(X_test)\n",
    "    accuracy = accuracy_score(y_test, y_pred)\n",
    "    train_accuracies.append(1 - accuracy)\n",
    "    y_test_pred = classifier.predict(X_test_set)\n",
    "    final = []\n",
    "    for j in y_test_pred:\n",
    "        if j == -1:\n",
    "            final.append(3)\n",
    "        elif j == 1:\n",
    "            final.append(5)\n",
    "    final_predictions = pd.DataFrame(final)\n",
    "    #generating the result file for predicting the labels based on features available in the test data file\n",
    "    file_name = \"results\" + str(i) + \".dat\"\n",
    "    final_predictions.to_csv(file_name, header = False, index = False)\n",
    "\n",
    "#rounding off the accuracies for easy plotting of the graph\n",
    "for i in range(len(train_accuracies)):\n",
    "    train_accuracies[i] = round(train_accuracies[i], 2)\n",
    "\n",
    "#implementing a single DecisionTreeClassifier \n",
    "classifier = DecisionTreeClassifier(random_state = 42, criterion = 'gini', max_depth = 10)\n",
    "classifier.fit(X_train, y_train)\n",
    "y_pred = classifier.predict(X_test)\n",
    "acc = accuracy_score(y_test, y_pred)\n",
    "print(\"Accuracy:\", acc)"
   ]
  },
  {
   "cell_type": "code",
   "execution_count": 46,
   "id": "6df506c0",
   "metadata": {},
   "outputs": [
    {
     "name": "stdout",
     "output_type": "stream",
     "text": [
      "Accuracy: 0.9547325102880658\n"
     ]
    },
    {
     "data": {
      "image/png": "[encoded data removed]",
      "text/plain": [
       "<Figure size 432x288 with 1 Axes>"
      ]
     },
     "metadata": {
      "needs_background": "light"
     },
     "output_type": "display_data"
    }
   ],
   "source": [
    "#plotting the graph\n",
    "xpoints = np.array([10,20,30,40,50,60,70,80,90,100,110,120,130,140,150,160,170,180,190,200,210,220,230,240,250])\n",
    "ypoints = np.array(train_accuracies)\n",
    "ypoints1 = np.array([0.07, 0.06, 0.06, 0.07, 0.06, 0.07, 0.07, 0.08, 0.07, 0.07, 0.07, 0.07, 0.07, 0.07, 0.07, 0.07, 0.07, 0.07, 0.07, 0.07, 0.07, 0.08, 0.08, 0.08, 0.09])\n",
    "library_accuracies = []\n",
    "for i in range(25):\n",
    "    library_accuracies.append(round(1 - acc, 2))\n",
    "ypoints2 = np.array(library_accuracies)\n",
    "\n",
    "plt.plot(xpoints, ypoints, color = 'r', label = 'train error')\n",
    "plt.plot(xpoints, ypoints1, color = 'g', label = 'test error')\n",
    "plt.plot(xpoints, ypoints2, color = 'b', label = 'sklearn error')\n",
    "\n",
    "plt.xlabel(\"Number of Weak Classifiers\")\n",
    "plt.ylabel(\"Error rate\")\n",
    "plt.show()"
   ]
  }
 ],
 "metadata": {
  "kernelspec": {
   "display_name": "Python 3",
   "language": "python",
   "name": "python3"
  },
  "language_info": {
   "codemirror_mode": {
    "name": "ipython",
    "version": 3
   },
   "file_extension": ".py",
   "mimetype": "text/x-python",
   "name": "python",
   "nbconvert_exporter": "python",
   "pygments_lexer": "ipython3",
   "version": "3.9.4"
  }
 },
 "nbformat": 4,
 "nbformat_minor": 5
}
